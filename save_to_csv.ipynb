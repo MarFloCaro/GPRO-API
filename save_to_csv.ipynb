{
 "cells": [
  {
   "cell_type": "code",
   "execution_count": 1,
   "metadata": {},
   "outputs": [],
   "source": [
    "import requests\n",
    "import csv\n",
    "from tokens import LANG, FLO_TOKEN"
   ]
  },
  {
   "cell_type": "markdown",
   "metadata": {},
   "source": [
    "You need to call the Office endpoint to have the season and race automatically gathered."
   ]
  },
  {
   "cell_type": "code",
   "execution_count": 2,
   "metadata": {},
   "outputs": [],
   "source": [
    "def Office(token, lang=None):\n",
    "    if not lang:\n",
    "        lang = LANG\n",
    "\n",
    "    url = f'https://gpro.net/{lang}/backend/api/v2/office'\n",
    "\n",
    "    headers = {\n",
    "        'Accept': 'application/json',\n",
    "        'Authorization': f'{token}',\n",
    "    }\n",
    "\n",
    "    return requests.get(url, headers=headers)"
   ]
  },
  {
   "cell_type": "code",
   "execution_count": 3,
   "metadata": {},
   "outputs": [],
   "source": [
    "office_response = Office(FLO_TOKEN)"
   ]
  },
  {
   "cell_type": "markdown",
   "metadata": {},
   "source": [
    "Check the status is 200"
   ]
  },
  {
   "cell_type": "code",
   "execution_count": 4,
   "metadata": {},
   "outputs": [
    {
     "data": {
      "text/plain": [
       "200"
      ]
     },
     "execution_count": 4,
     "metadata": {},
     "output_type": "execute_result"
    }
   ],
   "source": [
    "office_response.status_code"
   ]
  },
  {
   "cell_type": "markdown",
   "metadata": {},
   "source": [
    "Unpack the JSON content from the response"
   ]
  },
  {
   "cell_type": "code",
   "execution_count": 5,
   "metadata": {},
   "outputs": [],
   "source": [
    "office_response_json = office_response.json()"
   ]
  },
  {
   "cell_type": "markdown",
   "metadata": {},
   "source": [
    "Dictionary comprehension with season and race, using the .get() method for Python dictionaries: You prvode the key, it returns the value"
   ]
  },
  {
   "cell_type": "code",
   "execution_count": 6,
   "metadata": {},
   "outputs": [],
   "source": [
    "sr = {'season': int(office_response_json.get('seasonNb')), 'race': int(office_response_json.get('raceNb'))}"
   ]
  },
  {
   "cell_type": "code",
   "execution_count": 7,
   "metadata": {},
   "outputs": [
    {
     "data": {
      "text/plain": [
       "{'season': 100, 'race': 13}"
      ]
     },
     "execution_count": 7,
     "metadata": {},
     "output_type": "execute_result"
    }
   ],
   "source": [
    "sr"
   ]
  },
  {
   "cell_type": "markdown",
   "metadata": {},
   "source": [
    "Use the name, manager id or anything meaningful to add to the file name"
   ]
  },
  {
   "cell_type": "code",
   "execution_count": 8,
   "metadata": {},
   "outputs": [],
   "source": [
    "person = \"Flo\" #Use manager id, or whatever serves you best."
   ]
  },
  {
   "cell_type": "markdown",
   "metadata": {},
   "source": [
    "Example with car endpoint"
   ]
  },
  {
   "cell_type": "code",
   "execution_count": 9,
   "metadata": {},
   "outputs": [],
   "source": [
    "def UpdateCar(token, lang=None):\n",
    "    if not lang:\n",
    "        lang = LANG\n",
    "\n",
    "    url = f'https://gpro.net/{lang}/backend/api/v2/UpdateCar'\n",
    "\n",
    "    headers = {\n",
    "        'Accept': 'application/json',\n",
    "        'Authorization': f'{token}',\n",
    "    }\n",
    "\n",
    "    return requests.get(url, headers=headers)"
   ]
  },
  {
   "cell_type": "code",
   "execution_count": 10,
   "metadata": {},
   "outputs": [],
   "source": [
    "update_car_response = UpdateCar(FLO_TOKEN)"
   ]
  },
  {
   "cell_type": "code",
   "execution_count": 11,
   "metadata": {},
   "outputs": [
    {
     "data": {
      "text/plain": [
       "200"
      ]
     },
     "execution_count": 11,
     "metadata": {},
     "output_type": "execute_result"
    }
   ],
   "source": [
    "update_car_response.status_code"
   ]
  },
  {
   "cell_type": "code",
   "execution_count": 12,
   "metadata": {},
   "outputs": [],
   "source": [
    "update_car_response_json = update_car_response.json()"
   ]
  },
  {
   "cell_type": "markdown",
   "metadata": {},
   "source": [
    "Analize the JSON and discover what are the properties from the JSON you want to save"
   ]
  },
  {
   "cell_type": "code",
   "execution_count": 13,
   "metadata": {},
   "outputs": [
    {
     "data": {
      "text/plain": [
       "{'loadingDataState': '1',\n",
       " 'carPower': 13,\n",
       " 'carHandl': 13,\n",
       " 'carAccel': 13,\n",
       " 'lvlChassis': 1,\n",
       " 'lvlBrakes': 1,\n",
       " 'lvlCooling': 1,\n",
       " 'lvlElectronics': 1,\n",
       " 'lvlEngine': 1,\n",
       " 'lvlFWing': 1,\n",
       " 'lvlRWing': 1,\n",
       " 'lvlGear': 1,\n",
       " 'lvlSidepods': 1,\n",
       " 'lvlSusp': 1,\n",
       " 'lvlUnderbody': 1,\n",
       " 'usaBrakes': 0,\n",
       " 'usaChassis': 0,\n",
       " 'usaCooling': 0,\n",
       " 'usaElectronics': 0,\n",
       " 'usaEngine': 0,\n",
       " 'usaFWing': 0,\n",
       " 'usaGear': 0,\n",
       " 'usaRWing': 0,\n",
       " 'usaSidepods': 0,\n",
       " 'usaSusp': 0,\n",
       " 'usaUnderbody': 0,\n",
       " 'canRepair': 1,\n",
       " 'canUndo': 0,\n",
       " 'endOfSeason': 0,\n",
       " 'raceInProgress': 0,\n",
       " 'updateInProgress': 0,\n",
       " 'chassisOptions': [{'value': {'value': 0, 'cost': 0},\n",
       "   'newLvl': '1',\n",
       "   'newWear': '0',\n",
       "   'disabled': 'false',\n",
       "   'text': \"Don't replace\"},\n",
       "  {'value': {'value': 1, 'cost': 1292539},\n",
       "   'newLvl': '1',\n",
       "   'newWear': '0',\n",
       "   'disabled': 'false',\n",
       "   'text': 'Replace with L1 ($1.292.539)'},\n",
       "  {'value': {'value': 2, 'cost': 1600810},\n",
       "   'newLvl': '2',\n",
       "   'newWear': '0',\n",
       "   'disabled': 'false',\n",
       "   'text': 'Replace with L2 ($1.600.810)'}],\n",
       " 'engineOptions': [{'value': {'value': 0, 'cost': 0},\n",
       "   'newLvl': '1',\n",
       "   'newWear': '0',\n",
       "   'disabled': 'false',\n",
       "   'text': \"Don't replace\"},\n",
       "  {'value': {'value': 1, 'cost': 3311737},\n",
       "   'newLvl': '1',\n",
       "   'newWear': '0',\n",
       "   'disabled': 'false',\n",
       "   'text': 'Replace with L1 ($3.311.737)'},\n",
       "  {'value': {'value': 2, 'cost': 4101586},\n",
       "   'newLvl': '2',\n",
       "   'newWear': '0',\n",
       "   'disabled': 'false',\n",
       "   'text': 'Replace with L2 ($4.101.586)'}],\n",
       " 'fWingOptions': [{'value': {'value': 0, 'cost': 0},\n",
       "   'newLvl': '1',\n",
       "   'newWear': '0',\n",
       "   'disabled': 'false',\n",
       "   'text': \"Don't replace\"},\n",
       "  {'value': {'value': 1, 'cost': 1551354},\n",
       "   'newLvl': '1',\n",
       "   'newWear': '0',\n",
       "   'disabled': 'false',\n",
       "   'text': 'Replace with L1 ($1.551.354)'},\n",
       "  {'value': {'value': 2, 'cost': 1921352},\n",
       "   'newLvl': '2',\n",
       "   'newWear': '0',\n",
       "   'disabled': 'false',\n",
       "   'text': 'Replace with L2 ($1.921.352)'}],\n",
       " 'rWingOptions': [{'value': {'value': 0, 'cost': 0},\n",
       "   'newLvl': '1',\n",
       "   'newWear': '0',\n",
       "   'disabled': 'false',\n",
       "   'text': \"Don't replace\"},\n",
       "  {'value': {'value': 1, 'cost': 1504126},\n",
       "   'newLvl': '1',\n",
       "   'newWear': '0',\n",
       "   'disabled': 'false',\n",
       "   'text': 'Replace with L1 ($1.504.126)'},\n",
       "  {'value': {'value': 2, 'cost': 1862860},\n",
       "   'newLvl': '2',\n",
       "   'newWear': '0',\n",
       "   'disabled': 'false',\n",
       "   'text': 'Replace with L2 ($1.862.860)'}],\n",
       " 'underbodyOptions': [{'value': {'value': 0, 'cost': 0},\n",
       "   'newLvl': '1',\n",
       "   'newWear': '0',\n",
       "   'disabled': 'false',\n",
       "   'text': \"Don't replace\"},\n",
       "  {'value': {'value': 1, 'cost': 510128},\n",
       "   'newLvl': '1',\n",
       "   'newWear': '0',\n",
       "   'disabled': 'false',\n",
       "   'text': 'Replace with L1 ($510.128)'},\n",
       "  {'value': {'value': 2, 'cost': 631794},\n",
       "   'newLvl': '2',\n",
       "   'newWear': '0',\n",
       "   'disabled': 'false',\n",
       "   'text': 'Replace with L2 ($631.794)'}],\n",
       " 'sidepodsOptions': [{'value': {'value': 0, 'cost': 0},\n",
       "   'newLvl': '1',\n",
       "   'newWear': '0',\n",
       "   'disabled': 'false',\n",
       "   'text': \"Don't replace\"},\n",
       "  {'value': {'value': 1, 'cost': 459831},\n",
       "   'newLvl': '1',\n",
       "   'newWear': '0',\n",
       "   'disabled': 'false',\n",
       "   'text': 'Replace with L1 ($459.831)'},\n",
       "  {'value': {'value': 2, 'cost': 569501},\n",
       "   'newLvl': '2',\n",
       "   'newWear': '0',\n",
       "   'disabled': 'false',\n",
       "   'text': 'Replace with L2 ($569.501)'}],\n",
       " 'coolingOptions': [{'value': {'value': 0, 'cost': 0},\n",
       "   'newLvl': '1',\n",
       "   'newWear': '0',\n",
       "   'disabled': 'false',\n",
       "   'text': \"Don't replace\"},\n",
       "  {'value': {'value': 1, 'cost': 454545},\n",
       "   'newLvl': '1',\n",
       "   'newWear': '0',\n",
       "   'disabled': 'false',\n",
       "   'text': 'Replace with L1 ($454.545)'},\n",
       "  {'value': {'value': 2, 'cost': 562954},\n",
       "   'newLvl': '2',\n",
       "   'newWear': '0',\n",
       "   'disabled': 'false',\n",
       "   'text': 'Replace with L2 ($562.954)'}],\n",
       " 'gearOptions': [{'value': {'value': 0, 'cost': 0},\n",
       "   'newLvl': '1',\n",
       "   'newWear': '0',\n",
       "   'disabled': 'false',\n",
       "   'text': \"Don't replace\"},\n",
       "  {'value': {'value': 1, 'cost': 3098104},\n",
       "   'newLvl': '1',\n",
       "   'newWear': '0',\n",
       "   'disabled': 'false',\n",
       "   'text': 'Replace with L1 ($3.098.104)'},\n",
       "  {'value': {'value': 2, 'cost': 3837002},\n",
       "   'newLvl': '2',\n",
       "   'newWear': '0',\n",
       "   'disabled': 'false',\n",
       "   'text': 'Replace with L2 ($3.837.002)'}],\n",
       " 'brakesOptions': [{'value': {'value': 0, 'cost': 0},\n",
       "   'newLvl': '1',\n",
       "   'newWear': '0',\n",
       "   'disabled': 'false',\n",
       "   'text': \"Don't replace\"},\n",
       "  {'value': {'value': 1, 'cost': 697674},\n",
       "   'newLvl': '1',\n",
       "   'newWear': '0',\n",
       "   'disabled': 'false',\n",
       "   'text': 'Replace with L1 ($697.674)'},\n",
       "  {'value': {'value': 2, 'cost': 864069},\n",
       "   'newLvl': '2',\n",
       "   'newWear': '0',\n",
       "   'disabled': 'false',\n",
       "   'text': 'Replace with L2 ($864.069)'}],\n",
       " 'suspOptions': [{'value': {'value': 0, 'cost': 0},\n",
       "   'newLvl': '1',\n",
       "   'newWear': '0',\n",
       "   'disabled': 'false',\n",
       "   'text': \"Don't replace\"},\n",
       "  {'value': {'value': 1, 'cost': 1181545},\n",
       "   'newLvl': '1',\n",
       "   'newWear': '0',\n",
       "   'disabled': 'false',\n",
       "   'text': 'Replace with L1 ($1.181.545)'},\n",
       "  {'value': {'value': 2, 'cost': 1463343},\n",
       "   'newLvl': '2',\n",
       "   'newWear': '0',\n",
       "   'disabled': 'false',\n",
       "   'text': 'Replace with L2 ($1.463.343)'}],\n",
       " 'electronicsOptions': [{'value': {'value': 0, 'cost': 0},\n",
       "   'newLvl': '1',\n",
       "   'newWear': '0',\n",
       "   'disabled': 'false',\n",
       "   'text': \"Don't replace\"},\n",
       "  {'value': {'value': 1, 'cost': 938416},\n",
       "   'newLvl': '1',\n",
       "   'newWear': '0',\n",
       "   'disabled': 'false',\n",
       "   'text': 'Replace with L1 ($938.416)'},\n",
       "  {'value': {'value': 2, 'cost': 1162228},\n",
       "   'newLvl': '2',\n",
       "   'newWear': '0',\n",
       "   'disabled': 'false',\n",
       "   'text': 'Replace with L2 ($1.162.228)'}],\n",
       " 'selectedBrakes': {'value': 0, 'cost': 0},\n",
       " 'selectedChassis': {'value': 0, 'cost': 0},\n",
       " 'selectedCooling': {'value': 0, 'cost': 0},\n",
       " 'selectedElectronics': {'value': 0, 'cost': 0},\n",
       " 'selectedEngine': {'value': 0, 'cost': 0},\n",
       " 'selectedFWing': {'value': 0, 'cost': 0},\n",
       " 'selectedGear': {'value': 0, 'cost': 0},\n",
       " 'selectedRWing': {'value': 0, 'cost': 0},\n",
       " 'selectedSidepods': {'value': 0, 'cost': 0},\n",
       " 'selectedSusp': {'value': 0, 'cost': 0},\n",
       " 'selectedUnderbody': {'value': 0, 'cost': 0},\n",
       " 'totalCosts': 0,\n",
       " 'undoCompleted': 0,\n",
       " 'carUpdated': 0,\n",
       " 'cash': 30519000,\n",
       " 'showCarUpdateAlert': False,\n",
       " 'showUndoAlert': False,\n",
       " 'showUndoAlertCredits': False,\n",
       " 'showUndoAlertNoCredits': False,\n",
       " 'credits': 402.36,\n",
       " 'races': 1246,\n",
       " 'apiRequestsRemaining': 996}"
      ]
     },
     "execution_count": 13,
     "metadata": {},
     "output_type": "execute_result"
    }
   ],
   "source": [
    "update_car_response_json"
   ]
  },
  {
   "cell_type": "markdown",
   "metadata": {},
   "source": [
    "I isolated this properties"
   ]
  },
  {
   "cell_type": "code",
   "execution_count": 14,
   "metadata": {},
   "outputs": [],
   "source": [
    "properties_to_save = ['carPower',\n",
    "                        'carHandl',\n",
    "                        'carAccel',\n",
    "                        'lvlChassis',\n",
    "                        'lvlBrakes',\n",
    "                        'lvlCooling',\n",
    "                        'lvlElectronics',\n",
    "                        'lvlEngine',\n",
    "                        'lvlFWing',\n",
    "                        'lvlRWing',\n",
    "                        'lvlGear',\n",
    "                        'lvlSidepods',\n",
    "                        'lvlSusp',\n",
    "                        'lvlUnderbody',\n",
    "                        'usaBrakes',\n",
    "                        'usaChassis',\n",
    "                        'usaCooling',\n",
    "                        'usaElectronics',\n",
    "                        'usaGear',\n",
    "                        'usaRWing',\n",
    "                        'usaSidepods',\n",
    "                        'usaSusp',\n",
    "                        'usaUnderbody']"
   ]
  },
  {
   "cell_type": "markdown",
   "metadata": {},
   "source": [
    "Dictionary comprehension to extract what I want from the JSON response"
   ]
  },
  {
   "cell_type": "code",
   "execution_count": 15,
   "metadata": {},
   "outputs": [],
   "source": [
    "car_dict = {key: value for key, value in update_car_response_json.items() if key in properties_to_save}"
   ]
  },
  {
   "cell_type": "code",
   "execution_count": 16,
   "metadata": {},
   "outputs": [
    {
     "data": {
      "text/plain": [
       "{'carPower': 13,\n",
       " 'carHandl': 13,\n",
       " 'carAccel': 13,\n",
       " 'lvlChassis': 1,\n",
       " 'lvlBrakes': 1,\n",
       " 'lvlCooling': 1,\n",
       " 'lvlElectronics': 1,\n",
       " 'lvlEngine': 1,\n",
       " 'lvlFWing': 1,\n",
       " 'lvlRWing': 1,\n",
       " 'lvlGear': 1,\n",
       " 'lvlSidepods': 1,\n",
       " 'lvlSusp': 1,\n",
       " 'lvlUnderbody': 1,\n",
       " 'usaBrakes': 0,\n",
       " 'usaChassis': 0,\n",
       " 'usaCooling': 0,\n",
       " 'usaElectronics': 0,\n",
       " 'usaGear': 0,\n",
       " 'usaRWing': 0,\n",
       " 'usaSidepods': 0,\n",
       " 'usaSusp': 0,\n",
       " 'usaUnderbody': 0}"
      ]
     },
     "execution_count": 16,
     "metadata": {},
     "output_type": "execute_result"
    }
   ],
   "source": [
    "car_dict"
   ]
  },
  {
   "cell_type": "markdown",
   "metadata": {},
   "source": [
    "Dictionary comprehension to unify the season and race dictionary with the car dictionary"
   ]
  },
  {
   "cell_type": "code",
   "execution_count": 17,
   "metadata": {},
   "outputs": [],
   "source": [
    "data_to_save = {key: value for d in (sr, car_dict) for key, value in d.items()}"
   ]
  },
  {
   "cell_type": "code",
   "execution_count": 18,
   "metadata": {},
   "outputs": [
    {
     "data": {
      "text/plain": [
       "{'season': 100,\n",
       " 'race': 13,\n",
       " 'carPower': 13,\n",
       " 'carHandl': 13,\n",
       " 'carAccel': 13,\n",
       " 'lvlChassis': 1,\n",
       " 'lvlBrakes': 1,\n",
       " 'lvlCooling': 1,\n",
       " 'lvlElectronics': 1,\n",
       " 'lvlEngine': 1,\n",
       " 'lvlFWing': 1,\n",
       " 'lvlRWing': 1,\n",
       " 'lvlGear': 1,\n",
       " 'lvlSidepods': 1,\n",
       " 'lvlSusp': 1,\n",
       " 'lvlUnderbody': 1,\n",
       " 'usaBrakes': 0,\n",
       " 'usaChassis': 0,\n",
       " 'usaCooling': 0,\n",
       " 'usaElectronics': 0,\n",
       " 'usaGear': 0,\n",
       " 'usaRWing': 0,\n",
       " 'usaSidepods': 0,\n",
       " 'usaSusp': 0,\n",
       " 'usaUnderbody': 0}"
      ]
     },
     "execution_count": 18,
     "metadata": {},
     "output_type": "execute_result"
    }
   ],
   "source": [
    "data_to_save"
   ]
  },
  {
   "cell_type": "markdown",
   "metadata": {},
   "source": [
    "Dictionary is ready! Let's build the file name"
   ]
  },
  {
   "cell_type": "code",
   "execution_count": 19,
   "metadata": {},
   "outputs": [],
   "source": [
    "file_name = f\"update_car_file_{person}\""
   ]
  },
  {
   "cell_type": "markdown",
   "metadata": {},
   "source": [
    "If you are using this for yourself only, you can just write the name/id in the string, this uses a variable you can modify somewhere else in your script(s)"
   ]
  },
  {
   "cell_type": "markdown",
   "metadata": {},
   "source": [
    "We'll separate the keys to list the fieldnames for the csv file, and the values fro the first row"
   ]
  },
  {
   "cell_type": "code",
   "execution_count": 20,
   "metadata": {},
   "outputs": [],
   "source": [
    "fieldnames = list(data_to_save.keys())\n",
    "values = list(data_to_save.values())"
   ]
  },
  {
   "cell_type": "markdown",
   "metadata": {},
   "source": [
    "First time you write in the file, you need to specify the fieldnames"
   ]
  },
  {
   "cell_type": "code",
   "execution_count": 21,
   "metadata": {},
   "outputs": [],
   "source": [
    "with open(file_name, 'w', newline='') as csvfile: \n",
    "    writer = csv.writer(csvfile)\n",
    "    writer.writerow(fieldnames) \n",
    "    writer.writerow(values) "
   ]
  },
  {
   "cell_type": "markdown",
   "metadata": {},
   "source": [
    "Output:"
   ]
  },
  {
   "cell_type": "markdown",
   "metadata": {},
   "source": [
    "```
    "season,race,carPower,carHandl,carAccel,lvlChassis,lvlBrakes,lvlCooling,lvlElectronics,lvlEngine,lvlFWing,lvlRWing,lvlGear,lvlSidepods,lvlSusp,lvlUnderbody,usaBrakes,usaChassis,usaCooling,usaElectronics,usaGear,usaRWing,usaSidepods,usaSusp,usaUnderbody\n",
    "100,13,13,13,13,1,1,1,1,1,1,1,1,1,1,1,0,0,0,0,0,0,0,0,0\n",
    "```"
   ]
  },
  {
   "cell_type": "markdown",
   "metadata": {},
   "source": [
    "Subsequent times, you just write the last row, appending to the existing file"
   ]
  },
  {
   "cell_type": "markdown",
   "metadata": {},
   "source": [
    "For this example, I'll just change the race number and leave the rest the same, to create a new row"
   ]
  },
  {
   "cell_type": "code",
   "execution_count": 22,
   "metadata": {},
   "outputs": [],
   "source": [
    "data_to_save['race'] = 14"
   ]
  },
  {
   "cell_type": "code",
   "execution_count": 23,
   "metadata": {},
   "outputs": [],
   "source": [
    "values = list(data_to_save.values())"
   ]
  },
  {
   "cell_type": "markdown",
   "metadata": {},
   "source": [
    "Notice how the mode changed from `w` to `a`"
   ]
  },
  {
   "cell_type": "code",
   "execution_count": 24,
   "metadata": {},
   "outputs": [],
   "source": [
    "with open(file_name, 'a', newline='') as csvfile: \n",
    "    writer = csv.writer(csvfile)\n",
    "    writer.writerow(values) "
   ]
  },
  {
   "cell_type": "markdown",
   "metadata": {},
   "source": [
    "Output with appended row"
   ]
  },
  {
   "cell_type": "markdown",
   "metadata": {},
   "source": [
    "```
    "season,race,carPower,carHandl,carAccel,lvlChassis,lvlBrakes,lvlCooling,lvlElectronics,lvlEngine,lvlFWing,lvlRWing,lvlGear,lvlSidepods,lvlSusp,lvlUnderbody,usaBrakes,usaChassis,usaCooling,usaElectronics,usaGear,usaRWing,usaSidepods,usaSusp,usaUnderbody\n",
    "100,13,13,13,13,1,1,1,1,1,1,1,1,1,1,1,0,0,0,0,0,0,0,0,0\n",
    "100,14,13,13,13,1,1,1,1,1,1,1,1,1,1,1,0,0,0,0,0,0,0,0,0\n",
    "```"
   ]
  },
  {
   "cell_type": "markdown",
   "metadata": {},
   "source": [
    "CSV file format is easy to work with in Excel, if that's your objective! This way you can update on the same file every race. If you are going to build a new file for each season, the consider adding the season number to the file name."
   ]
  }
 ],
 "metadata": {
  "kernelspec": {
   "display_name": "Python 3",
   "language": "python",
   "name": "python3"
  },
  "language_info": {
   "codemirror_mode": {
    "name": "ipython",
    "version": 3
   },
   "file_extension": ".py",
   "mimetype": "text/x-python",
   "name": "python",
   "nbconvert_exporter": "python",
   "pygments_lexer": "ipython3",
   "version": "3.10.11"
  }
 },
 "nbformat": 4,
 "nbformat_minor": 2
}
